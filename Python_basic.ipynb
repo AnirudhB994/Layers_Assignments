{
 "cells": [
  {
   "cell_type": "code",
   "execution_count": 2,
   "id": "6f637539",
   "metadata": {},
   "outputs": [
    {
     "name": "stdout",
     "output_type": "stream",
     "text": [
      "20\n",
      "Weird\n"
     ]
    }
   ],
   "source": [
    "#If-Else\n",
    "import math\n",
    "import os\n",
    "import random\n",
    "import re\n",
    "import sys\n",
    "\n",
    "\n",
    "\n",
    "if __name__ == '__main__':\n",
    "    n = int(input())\n",
    "if n%2!=0:\n",
    "    print(\"Weird\")\n",
    "else:\n",
    "    if n in range(2,5) or n==2 or n==5:\n",
    "        print(\"Not Weird\")\n",
    "    elif n in range(6,20) or n==6 or n==20:\n",
    "        print(\"Weird\")\n",
    "    else:\n",
    "        print(\"Not Weird\")"
   ]
  },
  {
   "cell_type": "code",
   "execution_count": 3,
   "id": "ecd606b6",
   "metadata": {
    "scrolled": true
   },
   "outputs": [
    {
     "name": "stdout",
     "output_type": "stream",
     "text": [
      "5\n",
      "8\n",
      "13\n",
      "-3\n",
      "40\n"
     ]
    }
   ],
   "source": [
    "#Arithmetic Operators\n",
    "if __name__ == '__main__':\n",
    "    a = int(input())\n",
    "    b = int(input())\n",
    "    print(a+b)\n",
    "    print(a-b)\n",
    "    print(a*b)"
   ]
  },
  {
   "cell_type": "code",
   "execution_count": 4,
   "id": "3ae055b3",
   "metadata": {},
   "outputs": [
    {
     "name": "stdout",
     "output_type": "stream",
     "text": [
      "4\n",
      "3\n",
      "1\n",
      "1.3333333333333333\n"
     ]
    }
   ],
   "source": [
    "#Division\n",
    "from __future__ import division\n",
    "\n",
    "if __name__ == '__main__':\n",
    "    a = int(input())\n",
    "    b = int(input())\n",
    "\n",
    "print(int(a/b))\n",
    "print(float(a)/float(b))"
   ]
  },
  {
   "cell_type": "code",
   "execution_count": 5,
   "id": "b77292b2",
   "metadata": {
    "scrolled": true
   },
   "outputs": [
    {
     "name": "stdout",
     "output_type": "stream",
     "text": [
      "5\n",
      "0\n",
      "1\n",
      "4\n",
      "9\n",
      "16\n"
     ]
    }
   ],
   "source": [
    "#Loop\n",
    "if __name__ == '__main__':\n",
    "    n = int(input())\n",
    "i=0\n",
    "while i<n:\n",
    "    print(i*i)\n",
    "    i=i+1"
   ]
  },
  {
   "cell_type": "code",
   "execution_count": 7,
   "id": "9206c482",
   "metadata": {},
   "outputs": [
    {
     "name": "stdout",
     "output_type": "stream",
     "text": [
      "1\n",
      "1\n",
      "1\n",
      "2\n",
      "[[0, 0, 0], [0, 0, 1], [0, 1, 0], [1, 0, 0], [1, 1, 1]]\n"
     ]
    }
   ],
   "source": [
    "#List Comprehensions\n",
    "if __name__ == '__main__':\n",
    "    x = int(input())\n",
    "    y = int(input())\n",
    "    z = int(input())\n",
    "    n = int(input())\n",
    "    x1=[p for p in range(x+1)]\n",
    "    y1=[q for q in range(y+1)]\n",
    "    z1=[r for r in range(z+1)]\n",
    "    perm=[[i,j,k] for i in x1 for j in y1 for k in z1]\n",
    "    ans=[l for l in perm if sum(l)!=n]\n",
    "    print(ans)"
   ]
  },
  {
   "cell_type": "code",
   "execution_count": 8,
   "id": "8d71c589",
   "metadata": {},
   "outputs": [
    {
     "name": "stdout",
     "output_type": "stream",
     "text": [
      "5\n",
      "2 3 6 6 5\n",
      "5\n"
     ]
    }
   ],
   "source": [
    "#Runner Up score\n",
    "if __name__ == '__main__':\n",
    "    n = int(input())\n",
    "    arr = map(int, input().split())\n",
    "    req=sorted(arr)\n",
    "    last=n-1\n",
    "    slast=n-2\n",
    "    while req[last]==req[slast]:\n",
    "        slast=slast-1\n",
    "    print(req[slast])"
   ]
  },
  {
   "cell_type": "code",
   "execution_count": 9,
   "id": "127c279e",
   "metadata": {},
   "outputs": [
    {
     "name": "stdout",
     "output_type": "stream",
     "text": [
      "5\n",
      "Harry\n",
      "37.21\n",
      "Berry\n",
      "37.21\n",
      "Tina\n",
      "37.2\n",
      "Akriti\n",
      "42\n",
      "Harsh\n",
      "39\n",
      "Berry\n",
      "Harry\n"
     ]
    }
   ],
   "source": [
    "#Nested Lists\n",
    "if __name__ == '__main__':\n",
    "    score_list=[]\n",
    "    marks_sheet=[]\n",
    "    for _ in range(int(input())):\n",
    "        name = input()\n",
    "        score = float(input())\n",
    "        score_list.append(score)\n",
    "        marks_sheet.append([name,score])\n",
    "    sec_lowest=sorted(list(set(score_list)))[1]\n",
    "    names=[name for name,score in sorted(marks_sheet) if score==sec_lowest]\n",
    "    print('\\n'.join(names))"
   ]
  },
  {
   "cell_type": "code",
   "execution_count": 10,
   "id": "9077289b",
   "metadata": {},
   "outputs": [
    {
     "name": "stdout",
     "output_type": "stream",
     "text": [
      "3\n",
      "Krishna 67 68 69\n",
      "Arjun 70 98 63\n",
      "Malika 52 56 60\n",
      "Malika\n",
      "56.00\n"
     ]
    }
   ],
   "source": [
    "#Finding the Percentage\n",
    "if __name__ == '__main__':\n",
    "    n = int(input())\n",
    "    student_marks = {}\n",
    "    for _ in range(n):\n",
    "        name, *line = input().split()\n",
    "        scores = list(map(float, line))\n",
    "        student_marks[name] = scores\n",
    "    query_name = input()\n",
    "    sum=0\n",
    "    for i in student_marks[query_name]:\n",
    "        sum+=i\n",
    "    print(\"{0:.2f}\".format(sum/3))"
   ]
  },
  {
   "cell_type": "code",
   "execution_count": 1,
   "id": "f1324e5b",
   "metadata": {},
   "outputs": [
    {
     "name": "stdout",
     "output_type": "stream",
     "text": [
      "12\n",
      "insert 0 5\n",
      "insert 1 10\n",
      "insert 0 6\n",
      "print\n",
      "[6, 5, 10]\n",
      "remove 6\n",
      "append 9\n",
      "append 1\n",
      "sort\n",
      "print\n",
      "[1, 5, 9, 10]\n",
      "pop\n",
      "reverse\n",
      "print\n",
      "[9, 5, 1]\n"
     ]
    }
   ],
   "source": [
    "#Lists\n",
    "if __name__ == '__main__':\n",
    "    N = int(input())\n",
    "    lst=[]\n",
    "    for item in range(N):\n",
    "        c=input().split()\n",
    "        if c[0]=='insert':\n",
    "            lst.insert(int(c[1]),int(c[2]))\n",
    "        elif c[0]=='print':\n",
    "            print(lst)\n",
    "        elif c[0]=='remove':\n",
    "            lst.remove(int(c[1]))\n",
    "        elif c[0]=='append':\n",
    "            lst.append(int(c[1]))\n",
    "        elif c[0]=='sort':\n",
    "            lst.sort()\n",
    "        elif c[0]=='pop':\n",
    "            lst.pop()\n",
    "        elif c[0]=='reverse':\n",
    "            lst.reverse()"
   ]
  },
  {
   "cell_type": "code",
   "execution_count": 4,
   "id": "6acf9140",
   "metadata": {},
   "outputs": [
    {
     "name": "stdout",
     "output_type": "stream",
     "text": [
      "2\n",
      "1 2\n",
      "-3550055125485641917\n"
     ]
    }
   ],
   "source": [
    "#Tuple\n",
    "if __name__ == '__main__':\n",
    "    n = int(input())\n",
    "    integer_list = map(int, input().split())\n",
    "    t=tuple(integer_list)\n",
    "    print(hash(t))"
   ]
  },
  {
   "cell_type": "code",
   "execution_count": 6,
   "id": "292f7d6b",
   "metadata": {},
   "outputs": [
    {
     "name": "stdout",
     "output_type": "stream",
     "text": [
      "2016\n",
      "True\n"
     ]
    }
   ],
   "source": [
    "#Leap Year Function\n",
    "def is_leap(year):\n",
    "    leap = False\n",
    "    \n",
    "    # Write your logic here\n",
    "    if year%400==0:\n",
    "        leap=True\n",
    "    elif year%100==0:\n",
    "        leap=False\n",
    "    elif year%4==0:\n",
    "        leap=True\n",
    "    else:\n",
    "        leap=False\n",
    "    return leap\n",
    "\n",
    "year = int(input())\n",
    "print(is_leap(year))"
   ]
  },
  {
   "cell_type": "code",
   "execution_count": 7,
   "id": "115e36c8",
   "metadata": {},
   "outputs": [
    {
     "name": "stdout",
     "output_type": "stream",
     "text": [
      "3\n",
      "123\n"
     ]
    }
   ],
   "source": [
    "#Print function\n",
    "from __future__ import print_function\n",
    "\n",
    "if __name__ == '__main__':\n",
    "    n = int(input())\n",
    "\n",
    "print(*range(1, int(n)+1), sep='')"
   ]
  }
 ],
 "metadata": {
  "kernelspec": {
   "display_name": "Python 3 (ipykernel)",
   "language": "python",
   "name": "python3"
  },
  "language_info": {
   "codemirror_mode": {
    "name": "ipython",
    "version": 3
   },
   "file_extension": ".py",
   "mimetype": "text/x-python",
   "name": "python",
   "nbconvert_exporter": "python",
   "pygments_lexer": "ipython3",
   "version": "3.10.1"
  }
 },
 "nbformat": 4,
 "nbformat_minor": 5
}
